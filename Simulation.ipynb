{
 "cells": [
  {
   "cell_type": "markdown",
   "metadata": {},
   "source": [
    "# Simulating Monty Hall's classic problem!"
   ]
  },
  {
   "cell_type": "code",
   "execution_count": 1,
   "metadata": {},
   "outputs": [],
   "source": [
    "from game import Game\n",
    "import random"
   ]
  },
  {
   "cell_type": "code",
   "execution_count": 2,
   "metadata": {},
   "outputs": [
    {
     "data": {
      "text/plain": [
       "False"
      ]
     },
     "execution_count": 2,
     "metadata": {},
     "output_type": "execute_result"
    }
   ],
   "source": [
    "def play_game(switch: bool = False) -> bool:\n",
    "    \"\"\"\n",
    "    Play a game, randomly select a door, default to not switch door. Return Win-ness\n",
    "    \"\"\"\n",
    "    game = Game()\n",
    "    game.player_select(random.randint(0, 2))\n",
    "    if switch:\n",
    "        game.player_switch()\n",
    "\n",
    "    if game.players_door.prized:\n",
    "        return True\n",
    "    return False"
   ]
  },
  {
   "cell_type": "code",
   "execution_count": 3,
   "metadata": {},
   "outputs": [],
   "source": [
    "def simulate_samples(size: int, switch: bool = False):\n",
    "    wins = 0\n",
    "    for _ in range(size):\n",
    "        if play_game(switch=switch):\n",
    "            wins += 1\n",
    "    \n",
    "    print(f\"After playing {size} games, Won {wins}. Probability: {wins/(size+1)}\")"
   ]
  },
  {
   "cell_type": "markdown",
   "metadata": {},
   "source": [
    "#### Simulate different ranges of sample sizes, never switch doors:"
   ]
  },
  {
   "cell_type": "code",
   "execution_count": 4,
   "metadata": {},
   "outputs": [
    {
     "name": "stdout",
     "output_type": "stream",
     "text": [
      "After playing 1000 games, Won 326. Probability: 0.3256743256743257\n",
      "After playing 10000 games, Won 3418. Probability: 0.3417658234176582\n",
      "After playing 100000 games, Won 33436. Probability: 0.33435665643343565\n"
     ]
    }
   ],
   "source": [
    "simulate_samples(1_000)\n",
    "simulate_samples(10_000)\n",
    "simulate_samples(100_000)"
   ]
  },
  {
   "cell_type": "markdown",
   "metadata": {},
   "source": [
    "#### Simulate different ranges of sample sizes, always switch doors:"
   ]
  },
  {
   "cell_type": "code",
   "execution_count": 5,
   "metadata": {},
   "outputs": [
    {
     "name": "stdout",
     "output_type": "stream",
     "text": [
      "After playing 1000 games, Won 671. Probability: 0.6703296703296703\n",
      "After playing 10000 games, Won 6718. Probability: 0.6717328267173283\n",
      "After playing 100000 games, Won 66785. Probability: 0.6678433215667844\n"
     ]
    }
   ],
   "source": [
    "simulate_samples(1_000, switch=True)\n",
    "simulate_samples(10_000, switch=True)\n",
    "simulate_samples(100_000, switch=True)"
   ]
  },
  {
   "cell_type": "markdown",
   "metadata": {},
   "source": [
    "## Conclusion:\n",
    "Always switch doors. From the simulation above, not switchind door yealds approximately 33% winrate while switching doors yealds approximately 66% winrate. vos Savant was right =))"
   ]
  }
 ],
 "metadata": {
  "kernelspec": {
   "display_name": "Python 3",
   "language": "python",
   "name": "python3"
  },
  "language_info": {
   "codemirror_mode": {
    "name": "ipython",
    "version": 3
   },
   "file_extension": ".py",
   "mimetype": "text/x-python",
   "name": "python",
   "nbconvert_exporter": "python",
   "pygments_lexer": "ipython3",
   "version": "3.9.1"
  }
 },
 "nbformat": 4,
 "nbformat_minor": 4
}