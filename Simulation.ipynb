{
 "cells": [
  {
   "cell_type": "markdown",
   "metadata": {},
   "source": [
    "# Simulating Monty Hall's classic problem!"
   ]
  },
  {
   "cell_type": "code",
   "execution_count": 1,
   "metadata": {},
   "outputs": [],
   "source": [
    "from game import Game\n",
    "import random"
   ]
  },
  {
   "cell_type": "code",
   "execution_count": 2,
   "metadata": {},
   "outputs": [],
   "source": [
    "def play_game(switch: bool = False) -> bool:\n",
    "    \"\"\"\n",
    "    Play a game, randomly select a door, default to not switch door. Return Win-ness\n",
    "    \"\"\"\n",
    "    game = Game()\n",
    "    game.player_select(random.randint(0, 2))\n",
    "    if switch:\n",
    "        game.player_switch()\n",
    "\n",
    "    if game.players_door.prized:\n",
    "        return True\n",
    "    return False"
   ]
  },
  {
   "cell_type": "code",
   "execution_count": 3,
   "metadata": {},
   "outputs": [],
   "source": [
    "def simulate_samples(size: int, switch: bool = False):\n",
    "    wins = 0\n",
    "    for _ in range(size):\n",
    "        if play_game(switch=switch):\n",
    "            wins += 1\n",
    "    \n",
    "    print(f\"After playing {size} games, Won {wins}. Probability: {wins/(size+1)}\")"
   ]
  },
  {
   "cell_type": "markdown",
   "metadata": {},
   "source": [
    "#### Simulate different ranges of sample sizes, never switch doors:"
   ]
  },
  {
   "cell_type": "code",
   "execution_count": 4,
   "metadata": {},
   "outputs": [
    {
     "output_type": "stream",
     "name": "stdout",
     "text": [
      "After playing 1000 games, Won 352. Probability: 0.3516483516483517\n",
      "After playing 10000 games, Won 3382. Probability: 0.3381661833816618\n",
      "After playing 100000 games, Won 33291. Probability: 0.3329066709332907\n"
     ]
    }
   ],
   "source": [
    "simulate_samples(1_000)\n",
    "simulate_samples(10_000)\n",
    "simulate_samples(100_000)"
   ]
  },
  {
   "cell_type": "markdown",
   "metadata": {},
   "source": [
    "#### Simulate different ranges of sample sizes, always switch doors:"
   ]
  },
  {
   "cell_type": "code",
   "execution_count": 5,
   "metadata": {},
   "outputs": [
    {
     "output_type": "stream",
     "name": "stdout",
     "text": [
      "After playing 1000 games, Won 640. Probability: 0.6393606393606394\n",
      "After playing 10000 games, Won 6712. Probability: 0.6711328867113289\n",
      "After playing 100000 games, Won 66636. Probability: 0.6663533364666353\n"
     ]
    }
   ],
   "source": [
    "simulate_samples(1_000, switch=True)\n",
    "simulate_samples(10_000, switch=True)\n",
    "simulate_samples(100_000, switch=True)"
   ]
  },
  {
   "cell_type": "markdown",
   "metadata": {},
   "source": [
    "## Conclusion:\n",
    "Always switch doors. From the simulation above, not switchind door yealds approximately 33% winrate while switching doors yealds approximately 66% winrate. vos Savant was right =))"
   ]
  }
 ],
 "metadata": {
  "kernelspec": {
   "name": "python391jvsc74a57bd07bda24a8a80341b2765976d426c42551bbf9a59eb9489d33e761d447a6e3151a",
   "display_name": "Python 3.9.1 64-bit"
  },
  "language_info": {
   "codemirror_mode": {
    "name": "ipython",
    "version": 3
   },
   "file_extension": ".py",
   "mimetype": "text/x-python",
   "name": "python",
   "nbconvert_exporter": "python",
   "pygments_lexer": "ipython3",
   "version": "3.9.1"
  }
 },
 "nbformat": 4,
 "nbformat_minor": 4
}