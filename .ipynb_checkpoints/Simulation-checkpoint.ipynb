{
 "metadata": {
  "language_info": {
   "codemirror_mode": {
    "name": "ipython",
    "version": 3
   },
   "file_extension": ".py",
   "mimetype": "text/x-python",
   "name": "python",
   "nbconvert_exporter": "python",
   "pygments_lexer": "ipython3",
   "version": "3.9.1"
  },
  "orig_nbformat": 2,
  "kernelspec": {
   "name": "python391jvsc74a57bd07bda24a8a80341b2765976d426c42551bbf9a59eb9489d33e761d447a6e3151a",
   "display_name": "Python 3.9.1 64-bit"
  }
 },
 "nbformat": 4,
 "nbformat_minor": 2,
 "cells": [
  {
   "source": [
    "## Simulation of a large number of Monty Hall's classic game!"
   ],
   "cell_type": "markdown",
   "metadata": {}
  },
  {
   "cell_type": "code",
   "execution_count": 1,
   "metadata": {},
   "outputs": [],
   "source": [
    "from game import Game\n",
    "import random"
   ]
  },
  {
   "cell_type": "code",
   "execution_count": 2,
   "metadata": {},
   "outputs": [
    {
     "output_type": "execute_result",
     "data": {
      "text/plain": [
       "False"
      ]
     },
     "metadata": {},
     "execution_count": 2
    }
   ],
   "source": [
    "def play_game(switch: bool = False) -> bool:\n",
    "    \"\"\"\n",
    "    Play a game, randomly select a door, default to not switch door. Return Win-ness\n",
    "    \"\"\"\n",
    "    game = Game()\n",
    "    game.player_select(random.randint(0, 2))\n",
    "    if switch:\n",
    "        game.player_switch()\n",
    "\n",
    "    if game.players_door.prized:\n",
    "        return True\n",
    "    return False"
   ]
  },
  {
   "cell_type": "code",
   "execution_count": 3,
   "metadata": {},
   "outputs": [],
   "source": [
    "def simulate_samples(size: int, switch: bool = False):\n",
    "    wins = 0\n",
    "    for _ in range(size):\n",
    "        if play_game(switch=switch):\n",
    "            wins += 1\n",
    "    \n",
    "    print(f\"After playing {size} games, Won {wins}. Probability: {wins/(size+1)}\")"
   ]
  },
  {
   "source": [
    "#### Simulate different ranges of sample sizes:"
   ],
   "cell_type": "markdown",
   "metadata": {}
  },
  {
   "cell_type": "code",
   "execution_count": 4,
   "metadata": {},
   "outputs": [
    {
     "output_type": "stream",
     "name": "stdout",
     "text": [
      "After playing 1000 games, Won 326. Probability: 0.3256743256743257\n",
      "After playing 10000 games, Won 3418. Probability: 0.3417658234176582\n",
      "After playing 100000 games, Won 33436. Probability: 0.33435665643343565\n"
     ]
    }
   ],
   "source": [
    "simulate_samples(1_000)\n",
    "simulate_samples(10_000)\n",
    "simulate_samples(100_000)"
   ]
  },
  {
   "source": [
    "#### Simulate different ranges of sample sizes, always switching doors:"
   ],
   "cell_type": "markdown",
   "metadata": {}
  },
  {
   "cell_type": "code",
   "execution_count": 5,
   "metadata": {},
   "outputs": [
    {
     "output_type": "stream",
     "name": "stdout",
     "text": [
      "After playing 1000 games, Won 671. Probability: 0.6703296703296703\n",
      "After playing 10000 games, Won 6718. Probability: 0.6717328267173283\n",
      "After playing 100000 games, Won 66785. Probability: 0.6678433215667844\n"
     ]
    }
   ],
   "source": [
    "simulate_samples(1_000, switch=True)\n",
    "simulate_samples(10_000, switch=True)\n",
    "simulate_samples(100_000, switch=True)"
   ]
  },
  {
   "source": [
    "## Conclusion:\n",
    "Always switch doors. From the simulation above, not switchind door yealds approximately 33% winrate while switching doors yealds approximately 66% winrate. vos Savant was right =))"
   ],
   "cell_type": "markdown",
   "metadata": {}
  }
 ]
}